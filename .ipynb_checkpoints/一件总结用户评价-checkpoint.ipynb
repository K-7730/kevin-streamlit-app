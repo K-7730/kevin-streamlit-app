{
 "cells": [
  {
   "cell_type": "code",
   "execution_count": 2,
   "id": "8b3bee58-6d03-48db-87f0-0b925672b139",
   "metadata": {},
   "outputs": [],
   "source": [
    "from openai import OpenAI"
   ]
  },
  {
   "cell_type": "code",
   "execution_count": null,
   "id": "b8da809a-f6e2-4ff9-ba32-372b981277a9",
   "metadata": {},
   "outputs": [],
   "source": [
    "client = OpenAI()"
   ]
  },
  {
   "cell_type": "code",
   "execution_count": null,
   "id": "cb18adb4-3be3-4b91-89fc-b9fcca7874fd",
   "metadata": {},
   "outputs": [],
   "source": [
    "def get_openai_response(client, prompt, model=\"gpt-3.5-turbo\"):\n",
    "    response = client.chat.completions.create(\n",
    "        model=model,\n",
    "        messages=[{\"role\": \"user\", \"content\": prompt)],\n",
    "    )\n",
    "    return response.choice[0].messages.content"
   ]
  },
  {
   "cell_type": "code",
   "execution_count": null,
   "id": "d4f18772-ad00-4c8a-97a2-68b3a7d4b402",
   "metadata": {},
   "outputs": [],
   "source": [
    "product_review = '''\n",
    "我上个月买的这个多功能蓝牙耳机。它的连接速度还挺快，而且兼容性强，无论连接手机还是笔记本电脑，基本上都能快速配对上。\n",
    "音质方面，中高音清晰，低音效果震据，当然这个价格来说一分钱一分货吧，毕竟也不便宜。\n",
    "耳机的电池续航能力不错，单次充满电可以连续使用超过8小时。\n",
    "不过这个耳机也有一些我不太满意的地方。首先是在长时间使用后，耳廓有轻微的压迫感，这可能是因为耳套的材料较硬。总之我感觉戴了超过4小时后耳朵会有点酸痛，需要摘下休息下。\n",
    "而且耳机的防水性能不是特别理想，在剧烈运动时的汗水防护上有待加强。\n",
    "最后是耳机盒子的开合机制感觉不够紧致，有时候会不小心打开.\n",
    "'''"
   ]
  },
  {
   "cell_type": "code",
   "execution_count": null,
   "id": "7d29317c-e0eb-4e52-85f3-fd9c1fb9f74e",
   "metadata": {},
   "outputs": [],
   "source": [
    "product_review_prompt = f'''\n",
    "你的任务是为用户对产品的评价生成简要总结。\n",
    "请把总结主要分为两个方面，产品的优点，以及产品的缺点，并以Markdown列表形式展示。\n",
    "用户的评价内容会以三个#符号进行包围。\n",
    "###\n",
    "(product_review)\n",
    "###\n",
    "'''"
   ]
  },
  {
   "cell_type": "code",
   "execution_count": null,
   "id": "39fc16d9-90da-4a21-bc20-748f39e1358f",
   "metadata": {},
   "outputs": [],
   "source": [
    "product_review_prompt"
   ]
  },
  {
   "cell_type": "code",
   "execution_count": null,
   "id": "0f5ff1e3-3231-4044-9ad1-92473aa54c95",
   "metadata": {},
   "outputs": [],
   "source": [
    "response = get_openai_response (client, product_review_prompt)\n",
    "response"
   ]
  },
  {
   "cell_type": "code",
   "execution_count": null,
   "id": "7b145185-9cf0-4a85-96e9-2032267a6df5",
   "metadata": {},
   "outputs": [],
   "source": [
    "print(response)"
   ]
  }
 ],
 "metadata": {
  "kernelspec": {
   "display_name": "Python 3 (ipykernel)",
   "language": "python",
   "name": "python3"
  },
  "language_info": {
   "codemirror_mode": {
    "name": "ipython",
    "version": 3
   },
   "file_extension": ".py",
   "mimetype": "text/x-python",
   "name": "python",
   "nbconvert_exporter": "python",
   "pygments_lexer": "ipython3",
   "version": "3.12.4"
  }
 },
 "nbformat": 4,
 "nbformat_minor": 5
}
